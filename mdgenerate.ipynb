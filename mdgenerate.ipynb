{
 "cells": [
  {
   "cell_type": "code",
   "execution_count": 1,
   "metadata": {},
   "outputs": [],
   "source": [
    "import pandas as pd"
   ]
  },
  {
   "cell_type": "code",
   "execution_count": 2,
   "metadata": {},
   "outputs": [],
   "source": [
    "import numpy as np"
   ]
  },
  {
   "cell_type": "code",
   "execution_count": 5,
   "metadata": {},
   "outputs": [],
   "source": [
    "data = pd.read_csv(\"resource_data.csv\")"
   ]
  },
  {
   "cell_type": "code",
   "execution_count": 29,
   "metadata": {},
   "outputs": [],
   "source": [
    "file = open(\"test.md\", 'w')\n",
    "\n",
    "for i in range(len(data)):\n",
    "    # print(data[\"Domain\"].iloc[i], type(data[\"Domain\"].iloc[i]))\n",
    "\n",
    "    if not pd.isnull(data[\"Domain\"].iloc[i]):\n",
    "        file.write(f\"\\n## {data['Domain'].iloc[i]}\\n\")\n",
    "    if not pd.isnull(data[\"Topics\"].iloc[i]):\n",
    "        file.write(f\"### {data['Topics'].iloc[i]}\\n\")\n",
    "            \n",
    "    # sub_topics = []\n",
    "    if not pd.isnull(data[\"Sub-Topics\"].iloc[i]):\n",
    "        file.write(f\"- [{data['Sub-Topics'].iloc[i]}]({data['Link'].iloc[i]})\\n\")\n",
    "        part = 1\n",
    "    else:\n",
    "        part += 1\n",
    "        file.write(f\"- [{data['Sub-Topics'].iloc[i-1]} part {part}]({data['Link'].iloc[i]})\\n\")\n",
    "                \n",
    "file.close()"
   ]
  },
  {
   "cell_type": "code",
   "execution_count": null,
   "metadata": {},
   "outputs": [],
   "source": []
  }
 ],
 "metadata": {
  "kernelspec": {
   "display_name": "Python 3",
   "language": "python",
   "name": "python3"
  },
  "language_info": {
   "codemirror_mode": {
    "name": "ipython",
    "version": 3
   },
   "file_extension": ".py",
   "mimetype": "text/x-python",
   "name": "python",
   "nbconvert_exporter": "python",
   "pygments_lexer": "ipython3",
   "version": "3.8.17"
  },
  "orig_nbformat": 4
 },
 "nbformat": 4,
 "nbformat_minor": 2
}
